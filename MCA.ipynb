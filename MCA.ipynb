{
  "nbformat": 4,
  "nbformat_minor": 0,
  "metadata": {
    "colab": {
      "name": "MCA.ipynb",
      "version": "0.3.2",
      "provenance": [],
      "collapsed_sections": [],
      "include_colab_link": true
    },
    "kernelspec": {
      "name": "python3",
      "display_name": "Python 3"
    }
  },
  "cells": [
    {
      "cell_type": "markdown",
      "metadata": {
        "id": "view-in-github",
        "colab_type": "text"
      },
      "source": [
        "<a href=\"https://colab.research.google.com/github/naagdev/py_boot/blob/master/MCA.ipynb\" target=\"_parent\"><img src=\"https://colab.research.google.com/assets/colab-badge.svg\" alt=\"Open In Colab\"/></a>"
      ]
    },
    {
      "cell_type": "code",
      "metadata": {
        "id": "-fqS9j6kz4Wl",
        "colab_type": "code",
        "colab": {
          "base_uri": "https://localhost:8080/",
          "height": 1854
        },
        "outputId": "2568799a-79ce-40e5-89e7-aa1a5bce35b8"
      },
      "source": [
        "import numpy as np\n",
        "import random\n",
        "import matplotlib.pyplot as plt\n",
        "\n",
        "print(\"MCA algorithm is used to find the inverse of a matrix\")\n",
        "print(\"\\n\")\n",
        "np.random.seed(42)\n",
        "\n",
        "a = 10*np.random.random(100).reshape(10,10)\n",
        "# a = np.array([[1,3,0],[0,-2,8],[7,2,-6]])\n",
        "row,column = a.shape\n",
        "i,j = 0,0\n",
        "def MCA(matrix,row,column):\n",
        "#     print(\"Determinant of the matrix is: {0}\".format(np.round(np.linalg.det(matrix))))\n",
        "#     print(\"\\n\")\n",
        "    \n",
        "    if (np.linalg.det(matrix) != 0):\n",
        "      #Extracting Minors of a matrix\n",
        "      minors = np.zeros_like(matrix)\n",
        "      #Gride of alternating pulses \n",
        "      pulses = np.zeros_like(matrix)\n",
        "      \n",
        "#       pulses[::2,::2]= 1\n",
        "#       pulses[1::2,1::2] = 1\n",
        "      \n",
        "      for i in range(row):\n",
        "        for j in range(column):\n",
        "          \n",
        "          pulses[i,j] = (-1)**(i+j)\n",
        "          \n",
        "          \n",
        "          filters = np.ones_like(matrix)\n",
        "          filters[0:,j],filters[i,0:]=0,0\n",
        "          \n",
        "          temp0 = filters*a\n",
        "          \n",
        "#           print(temp0)\n",
        "#           print(\"\\n\")\n",
        "#           temp1 = temp0[np.nonzero(temp0)].reshape(row-1,column-1)\n",
        "          d = temp0[~np.all(temp0==0.,axis=1)]\n",
        "          d = d.T[~np.all(d.T==0.,axis=1)].T\n",
        "            \n",
        "#           print(d)\n",
        "#           print(\"\\n\")\n",
        "          minors[i,j] = np.round(np.linalg.det(d))\n",
        "#           print(np.linalg.det(d))\n",
        "#           print(\"\\n\")\n",
        "      print(\"Original\")\n",
        "#       print(\"Original: \\n {0}\".format(matrix))\n",
        "      plt.matshow(matrix)\n",
        "      plt.show()\n",
        "      print(\"Minor\")\n",
        "#       print(\"Minor: \\n {0}\".format(minors))\n",
        "      plt.matshow(minors)\n",
        "      plt.show()\n",
        "      print(\"\\n\")\n",
        "      print(\"Pulses\")\n",
        "      #Cofactor matrix: Hadamard multiplication of minors and pulses\n",
        "#       print(\"Pulses: \\n {0}\".format(pulses))\n",
        "      plt.matshow(pulses)\n",
        "      plt.show()\n",
        "      print(\"\\n\")\n",
        "      cofactor = minors*pulses\n",
        "      print(\"Cofactor\")\n",
        "#       print(\"Cofactor: \\n {0}\".format(cofactor))\n",
        "      plt.matshow(cofactor)\n",
        "      plt.show()\n",
        "      print(\"\\n\")\n",
        "      #Inverse of the matrix: Adjugate matrix = transpose of cofactor * 1/det of original matrix\n",
        "      A_inv = (cofactor.T)#*(np.round(np.linalg.det(matrix)))\n",
        "      print(\"A-1\")\n",
        "#       print(\"A-1: \\n {0}\".format(A_inv))\n",
        "      plt.matshow(A_inv)\n",
        "      plt.show()\n",
        "      print(\"\\n\")\n",
        "      print(\"A-1A\")\n",
        "#       print(\"A-1A: \\n {0}\".format((A_inv @ matrix)*(1/np.round(np.linalg.det(matrix)))))\n",
        "      plt.matshow(np.linalg.inv((A_inv @ matrix)*(1/np.round(np.linalg.det(matrix)))))\n",
        "      plt.show()\n",
        "#       print(\"\\n\")\n",
        "#       print(\"Python built in Inverse output: \\n {0}\".format(np.linalg.inv(matrix)))\n",
        "#       plt.matshow(np.linalg.inv(matrix))\n",
        "#       plt.show()\n",
        "      \n",
        "    else:\n",
        "      print(\"deteminant of the matrix is zero,therefore it cannot be inversed\")\n",
        "      \n",
        "   \n",
        "MCA(a,row,column)"
      ],
      "execution_count": 7,
      "outputs": [
        {
          "output_type": "stream",
          "text": [
            "MCA algorithm is used to find the inverse of a matrix\n",
            "\n",
            "\n",
            "Original\n"
          ],
          "name": "stdout"
        },
        {
          "output_type": "display_data",
          "data": {
            "image/png": "[encoded data removed]",
            "text/plain": [
              "<Figure size 288x288 with 1 Axes>"
            ]
          },
          "metadata": {
            "tags": []
          }
        },
        {
          "output_type": "stream",
          "text": [
            "Minor\n"
          ],
          "name": "stdout"
        },
        {
          "output_type": "display_data",
          "data": {
            "image/png": "[encoded data removed]",
            "text/plain": [
              "<Figure size 288x288 with 1 Axes>"
            ]
          },
          "metadata": {
            "tags": []
          }
        },
        {
          "output_type": "stream",
          "text": [
            "\n",
            "\n",
            "Pulses\n"
          ],
          "name": "stdout"
        },
        {
          "output_type": "display_data",
          "data": {
            "image/png": "[encoded data removed]",
            "text/plain": [
              "<Figure size 288x288 with 1 Axes>"
            ]
          },
          "metadata": {
            "tags": []
          }
        },
        {
          "output_type": "stream",
          "text": [
            "\n",
            "\n",
            "Cofactor\n"
          ],
          "name": "stdout"
        },
        {
          "output_type": "display_data",
          "data": {
            "image/png": "[encoded data removed]",
            "text/plain": [
              "<Figure size 288x288 with 1 Axes>"
            ]
          },
          "metadata": {
            "tags": []
          }
        },
        {
          "output_type": "stream",
          "text": [
            "\n",
            "\n",
            "A-1\n"
          ],
          "name": "stdout"
        },
        {
          "output_type": "display_data",
          "data": {
            "image/png": "[encoded data removed]",
            "text/plain": [
              "<Figure size 288x288 with 1 Axes>"
            ]
          },
          "metadata": {
            "tags": []
          }
        },
        {
          "output_type": "stream",
          "text": [
            "\n",
            "\n",
            "A-1A\n"
          ],
          "name": "stdout"
        },
        {
          "output_type": "display_data",
          "data": {
            "image/png": "[encoded data removed]",
            "text/plain": [
              "<Figure size 288x288 with 1 Axes>"
            ]
          },
          "metadata": {
            "tags": []
          }
        }
      ]
    }
  ]
}